{
 "cells": [
  {
   "cell_type": "code",
   "execution_count": 174,
   "metadata": {},
   "outputs": [],
   "source": [
    "#import pandas as pd"
   ]
  },
  {
   "cell_type": "code",
   "execution_count": 175,
   "metadata": {},
   "outputs": [
    {
     "data": {
      "text/html": [
       "<pre style=\"white-space:pre;overflow-x:auto;line-height:normal;font-family:Menlo,'DejaVu Sans Mono',consolas,'Courier New',monospace\"><span style=\"color: #7fbfbf; text-decoration-color: #7fbfbf\">[07/28/24 17:31:33] </span><span style=\"color: #000080; text-decoration-color: #000080\">INFO    </span> Registered line magic <span style=\"color: #008000; text-decoration-color: #008000\">'%reload_kedro'</span>                                   <a href=\"file:///Users/leilayfarsani/Desktop/spaceflights-kerdo/.venv/lib/python3.9/site-packages/kedro/ipython/__init__.py\" target=\"_blank\"><span style=\"color: #7f7f7f; text-decoration-color: #7f7f7f\">__init__.py</span></a><span style=\"color: #7f7f7f; text-decoration-color: #7f7f7f\">:</span><a href=\"file:///Users/leilayfarsani/Desktop/spaceflights-kerdo/.venv/lib/python3.9/site-packages/kedro/ipython/__init__.py#58\" target=\"_blank\"><span style=\"color: #7f7f7f; text-decoration-color: #7f7f7f\">58</span></a>\n",
       "</pre>\n"
      ],
      "text/plain": [
       "\u001b[2;36m[07/28/24 17:31:33]\u001b[0m\u001b[2;36m \u001b[0m\u001b[34mINFO    \u001b[0m Registered line magic \u001b[32m'%reload_kedro'\u001b[0m                                   \u001b]8;id=54733;file:///Users/leilayfarsani/Desktop/spaceflights-kerdo/.venv/lib/python3.9/site-packages/kedro/ipython/__init__.py\u001b\\\u001b[2m__init__.py\u001b[0m\u001b]8;;\u001b\\\u001b[2m:\u001b[0m\u001b]8;id=81274;file:///Users/leilayfarsani/Desktop/spaceflights-kerdo/.venv/lib/python3.9/site-packages/kedro/ipython/__init__.py#58\u001b\\\u001b[2m58\u001b[0m\u001b]8;;\u001b\\\n"
      ]
     },
     "metadata": {},
     "output_type": "display_data"
    },
    {
     "data": {
      "text/html": [
       "<pre style=\"white-space:pre;overflow-x:auto;line-height:normal;font-family:Menlo,'DejaVu Sans Mono',consolas,'Courier New',monospace\"><span style=\"color: #7fbfbf; text-decoration-color: #7fbfbf\">                    </span><span style=\"color: #000080; text-decoration-color: #000080\">INFO    </span> Registered line magic <span style=\"color: #008000; text-decoration-color: #008000\">'%load_node'</span>                                      <a href=\"file:///Users/leilayfarsani/Desktop/spaceflights-kerdo/.venv/lib/python3.9/site-packages/kedro/ipython/__init__.py\" target=\"_blank\"><span style=\"color: #7f7f7f; text-decoration-color: #7f7f7f\">__init__.py</span></a><span style=\"color: #7f7f7f; text-decoration-color: #7f7f7f\">:</span><a href=\"file:///Users/leilayfarsani/Desktop/spaceflights-kerdo/.venv/lib/python3.9/site-packages/kedro/ipython/__init__.py#60\" target=\"_blank\"><span style=\"color: #7f7f7f; text-decoration-color: #7f7f7f\">60</span></a>\n",
       "</pre>\n"
      ],
      "text/plain": [
       "\u001b[2;36m                   \u001b[0m\u001b[2;36m \u001b[0m\u001b[34mINFO    \u001b[0m Registered line magic \u001b[32m'%load_node'\u001b[0m                                      \u001b]8;id=522292;file:///Users/leilayfarsani/Desktop/spaceflights-kerdo/.venv/lib/python3.9/site-packages/kedro/ipython/__init__.py\u001b\\\u001b[2m__init__.py\u001b[0m\u001b]8;;\u001b\\\u001b[2m:\u001b[0m\u001b]8;id=50184;file:///Users/leilayfarsani/Desktop/spaceflights-kerdo/.venv/lib/python3.9/site-packages/kedro/ipython/__init__.py#60\u001b\\\u001b[2m60\u001b[0m\u001b]8;;\u001b\\\n"
      ]
     },
     "metadata": {},
     "output_type": "display_data"
    },
    {
     "data": {
      "text/html": [
       "<pre style=\"white-space:pre;overflow-x:auto;line-height:normal;font-family:Menlo,'DejaVu Sans Mono',consolas,'Courier New',monospace\"><span style=\"color: #7fbfbf; text-decoration-color: #7fbfbf\">                    </span><span style=\"color: #000080; text-decoration-color: #000080\">INFO    </span> Resolved project path as:                                              <a href=\"file:///Users/leilayfarsani/Desktop/spaceflights-kerdo/.venv/lib/python3.9/site-packages/kedro/ipython/__init__.py\" target=\"_blank\"><span style=\"color: #7f7f7f; text-decoration-color: #7f7f7f\">__init__.py</span></a><span style=\"color: #7f7f7f; text-decoration-color: #7f7f7f\">:</span><a href=\"file:///Users/leilayfarsani/Desktop/spaceflights-kerdo/.venv/lib/python3.9/site-packages/kedro/ipython/__init__.py#171\" target=\"_blank\"><span style=\"color: #7f7f7f; text-decoration-color: #7f7f7f\">171</span></a>\n",
       "<span style=\"color: #7fbfbf; text-decoration-color: #7fbfbf\">                    </span>         <span style=\"color: #800080; text-decoration-color: #800080\">/Users/leilayfarsani/Desktop/spaceflights-kerdo/</span><span style=\"color: #ff00ff; text-decoration-color: #ff00ff\">spaceflight.</span>           <span style=\"color: #7f7f7f; text-decoration-color: #7f7f7f\">               </span>\n",
       "<span style=\"color: #7fbfbf; text-decoration-color: #7fbfbf\">                    </span>         To set a different path, run <span style=\"color: #008000; text-decoration-color: #008000\">'%reload_kedro &lt;project_root&gt;'</span>            <span style=\"color: #7f7f7f; text-decoration-color: #7f7f7f\">               </span>\n",
       "</pre>\n"
      ],
      "text/plain": [
       "\u001b[2;36m                   \u001b[0m\u001b[2;36m \u001b[0m\u001b[34mINFO    \u001b[0m Resolved project path as:                                              \u001b]8;id=357996;file:///Users/leilayfarsani/Desktop/spaceflights-kerdo/.venv/lib/python3.9/site-packages/kedro/ipython/__init__.py\u001b\\\u001b[2m__init__.py\u001b[0m\u001b]8;;\u001b\\\u001b[2m:\u001b[0m\u001b]8;id=59529;file:///Users/leilayfarsani/Desktop/spaceflights-kerdo/.venv/lib/python3.9/site-packages/kedro/ipython/__init__.py#171\u001b\\\u001b[2m171\u001b[0m\u001b]8;;\u001b\\\n",
       "\u001b[2;36m                    \u001b[0m         \u001b[35m/Users/leilayfarsani/Desktop/spaceflights-kerdo/\u001b[0m\u001b[95mspaceflight.\u001b[0m           \u001b[2m               \u001b[0m\n",
       "\u001b[2;36m                    \u001b[0m         To set a different path, run \u001b[32m'%reload_kedro \u001b[0m\u001b[32m<\u001b[0m\u001b[32mproject_root\u001b[0m\u001b[32m>\u001b[0m\u001b[32m'\u001b[0m            \u001b[2m               \u001b[0m\n"
      ]
     },
     "metadata": {},
     "output_type": "display_data"
    },
    {
     "data": {
      "text/html": [
       "<pre style=\"white-space:pre;overflow-x:auto;line-height:normal;font-family:Menlo,'DejaVu Sans Mono',consolas,'Courier New',monospace\"><span style=\"color: #7fbfbf; text-decoration-color: #7fbfbf\">[07/28/24 17:31:34] </span><span style=\"color: #000080; text-decoration-color: #000080\">INFO    </span> Kedro project spaceflight                                              <a href=\"file:///Users/leilayfarsani/Desktop/spaceflights-kerdo/.venv/lib/python3.9/site-packages/kedro/ipython/__init__.py\" target=\"_blank\"><span style=\"color: #7f7f7f; text-decoration-color: #7f7f7f\">__init__.py</span></a><span style=\"color: #7f7f7f; text-decoration-color: #7f7f7f\">:</span><a href=\"file:///Users/leilayfarsani/Desktop/spaceflights-kerdo/.venv/lib/python3.9/site-packages/kedro/ipython/__init__.py#141\" target=\"_blank\"><span style=\"color: #7f7f7f; text-decoration-color: #7f7f7f\">141</span></a>\n",
       "</pre>\n"
      ],
      "text/plain": [
       "\u001b[2;36m[07/28/24 17:31:34]\u001b[0m\u001b[2;36m \u001b[0m\u001b[34mINFO    \u001b[0m Kedro project spaceflight                                              \u001b]8;id=984092;file:///Users/leilayfarsani/Desktop/spaceflights-kerdo/.venv/lib/python3.9/site-packages/kedro/ipython/__init__.py\u001b\\\u001b[2m__init__.py\u001b[0m\u001b]8;;\u001b\\\u001b[2m:\u001b[0m\u001b]8;id=756665;file:///Users/leilayfarsani/Desktop/spaceflights-kerdo/.venv/lib/python3.9/site-packages/kedro/ipython/__init__.py#141\u001b\\\u001b[2m141\u001b[0m\u001b]8;;\u001b\\\n"
      ]
     },
     "metadata": {},
     "output_type": "display_data"
    },
    {
     "data": {
      "text/html": [
       "<pre style=\"white-space:pre;overflow-x:auto;line-height:normal;font-family:Menlo,'DejaVu Sans Mono',consolas,'Courier New',monospace\"><span style=\"color: #7fbfbf; text-decoration-color: #7fbfbf\">                    </span><span style=\"color: #000080; text-decoration-color: #000080\">INFO    </span> Defined global variable <span style=\"color: #008000; text-decoration-color: #008000\">'context'</span>, <span style=\"color: #008000; text-decoration-color: #008000\">'session'</span>, <span style=\"color: #008000; text-decoration-color: #008000\">'catalog'</span> and            <a href=\"file:///Users/leilayfarsani/Desktop/spaceflights-kerdo/.venv/lib/python3.9/site-packages/kedro/ipython/__init__.py\" target=\"_blank\"><span style=\"color: #7f7f7f; text-decoration-color: #7f7f7f\">__init__.py</span></a><span style=\"color: #7f7f7f; text-decoration-color: #7f7f7f\">:</span><a href=\"file:///Users/leilayfarsani/Desktop/spaceflights-kerdo/.venv/lib/python3.9/site-packages/kedro/ipython/__init__.py#142\" target=\"_blank\"><span style=\"color: #7f7f7f; text-decoration-color: #7f7f7f\">142</span></a>\n",
       "<span style=\"color: #7fbfbf; text-decoration-color: #7fbfbf\">                    </span>         <span style=\"color: #008000; text-decoration-color: #008000\">'pipelines'</span>                                                            <span style=\"color: #7f7f7f; text-decoration-color: #7f7f7f\">               </span>\n",
       "</pre>\n"
      ],
      "text/plain": [
       "\u001b[2;36m                   \u001b[0m\u001b[2;36m \u001b[0m\u001b[34mINFO    \u001b[0m Defined global variable \u001b[32m'context'\u001b[0m, \u001b[32m'session'\u001b[0m, \u001b[32m'catalog'\u001b[0m and            \u001b]8;id=242762;file:///Users/leilayfarsani/Desktop/spaceflights-kerdo/.venv/lib/python3.9/site-packages/kedro/ipython/__init__.py\u001b\\\u001b[2m__init__.py\u001b[0m\u001b]8;;\u001b\\\u001b[2m:\u001b[0m\u001b]8;id=403230;file:///Users/leilayfarsani/Desktop/spaceflights-kerdo/.venv/lib/python3.9/site-packages/kedro/ipython/__init__.py#142\u001b\\\u001b[2m142\u001b[0m\u001b]8;;\u001b\\\n",
       "\u001b[2;36m                    \u001b[0m         \u001b[32m'pipelines'\u001b[0m                                                            \u001b[2m               \u001b[0m\n"
      ]
     },
     "metadata": {},
     "output_type": "display_data"
    }
   ],
   "source": [
    "%reload_ext kedro.ipython\n"
   ]
  },
  {
   "cell_type": "markdown",
   "metadata": {},
   "source": [
    "### Loading the datasets "
   ]
  },
  {
   "cell_type": "code",
   "execution_count": 176,
   "metadata": {},
   "outputs": [
    {
     "data": {
      "text/html": [
       "<pre style=\"white-space:pre;overflow-x:auto;line-height:normal;font-family:Menlo,'DejaVu Sans Mono',consolas,'Courier New',monospace\"><span style=\"color: #7fbfbf; text-decoration-color: #7fbfbf\">                    </span><span style=\"color: #000080; text-decoration-color: #000080\">INFO    </span> Loading data from <span style=\"color: #ff8700; text-decoration-color: #ff8700\">companies</span> <span style=\"font-weight: bold\">(</span>CSVDataset<span style=\"font-weight: bold\">)</span><span style=\"color: #808000; text-decoration-color: #808000\">...</span>                        <a href=\"file:///Users/leilayfarsani/Desktop/spaceflights-kerdo/.venv/lib/python3.9/site-packages/kedro/io/data_catalog.py\" target=\"_blank\"><span style=\"color: #7f7f7f; text-decoration-color: #7f7f7f\">data_catalog.py</span></a><span style=\"color: #7f7f7f; text-decoration-color: #7f7f7f\">:</span><a href=\"file:///Users/leilayfarsani/Desktop/spaceflights-kerdo/.venv/lib/python3.9/site-packages/kedro/io/data_catalog.py#508\" target=\"_blank\"><span style=\"color: #7f7f7f; text-decoration-color: #7f7f7f\">508</span></a>\n",
       "</pre>\n"
      ],
      "text/plain": [
       "\u001b[2;36m                   \u001b[0m\u001b[2;36m \u001b[0m\u001b[34mINFO    \u001b[0m Loading data from \u001b[38;5;208mcompanies\u001b[0m \u001b[1m(\u001b[0mCSVDataset\u001b[1m)\u001b[0m\u001b[33m...\u001b[0m                        \u001b]8;id=219416;file:///Users/leilayfarsani/Desktop/spaceflights-kerdo/.venv/lib/python3.9/site-packages/kedro/io/data_catalog.py\u001b\\\u001b[2mdata_catalog.py\u001b[0m\u001b]8;;\u001b\\\u001b[2m:\u001b[0m\u001b]8;id=477571;file:///Users/leilayfarsani/Desktop/spaceflights-kerdo/.venv/lib/python3.9/site-packages/kedro/io/data_catalog.py#508\u001b\\\u001b[2m508\u001b[0m\u001b]8;;\u001b\\\n"
      ]
     },
     "metadata": {},
     "output_type": "display_data"
    }
   ],
   "source": [
    "df_companies = catalog.load(\"companies\")"
   ]
  },
  {
   "cell_type": "code",
   "execution_count": 177,
   "metadata": {},
   "outputs": [
    {
     "data": {
      "text/html": [
       "<pre style=\"white-space:pre;overflow-x:auto;line-height:normal;font-family:Menlo,'DejaVu Sans Mono',consolas,'Courier New',monospace\"><span style=\"color: #7fbfbf; text-decoration-color: #7fbfbf\">                    </span><span style=\"color: #000080; text-decoration-color: #000080\">INFO    </span> Loading data from <span style=\"color: #ff8700; text-decoration-color: #ff8700\">reviews</span> <span style=\"font-weight: bold\">(</span>CSVDataset<span style=\"font-weight: bold\">)</span><span style=\"color: #808000; text-decoration-color: #808000\">...</span>                          <a href=\"file:///Users/leilayfarsani/Desktop/spaceflights-kerdo/.venv/lib/python3.9/site-packages/kedro/io/data_catalog.py\" target=\"_blank\"><span style=\"color: #7f7f7f; text-decoration-color: #7f7f7f\">data_catalog.py</span></a><span style=\"color: #7f7f7f; text-decoration-color: #7f7f7f\">:</span><a href=\"file:///Users/leilayfarsani/Desktop/spaceflights-kerdo/.venv/lib/python3.9/site-packages/kedro/io/data_catalog.py#508\" target=\"_blank\"><span style=\"color: #7f7f7f; text-decoration-color: #7f7f7f\">508</span></a>\n",
       "</pre>\n"
      ],
      "text/plain": [
       "\u001b[2;36m                   \u001b[0m\u001b[2;36m \u001b[0m\u001b[34mINFO    \u001b[0m Loading data from \u001b[38;5;208mreviews\u001b[0m \u001b[1m(\u001b[0mCSVDataset\u001b[1m)\u001b[0m\u001b[33m...\u001b[0m                          \u001b]8;id=144729;file:///Users/leilayfarsani/Desktop/spaceflights-kerdo/.venv/lib/python3.9/site-packages/kedro/io/data_catalog.py\u001b\\\u001b[2mdata_catalog.py\u001b[0m\u001b]8;;\u001b\\\u001b[2m:\u001b[0m\u001b]8;id=216038;file:///Users/leilayfarsani/Desktop/spaceflights-kerdo/.venv/lib/python3.9/site-packages/kedro/io/data_catalog.py#508\u001b\\\u001b[2m508\u001b[0m\u001b]8;;\u001b\\\n"
      ]
     },
     "metadata": {},
     "output_type": "display_data"
    }
   ],
   "source": [
    "df_reviews = catalog.load(\"reviews\")"
   ]
  },
  {
   "cell_type": "code",
   "execution_count": 178,
   "metadata": {},
   "outputs": [
    {
     "data": {
      "text/html": [
       "<pre style=\"white-space:pre;overflow-x:auto;line-height:normal;font-family:Menlo,'DejaVu Sans Mono',consolas,'Courier New',monospace\"><span style=\"color: #7fbfbf; text-decoration-color: #7fbfbf\">                    </span><span style=\"color: #000080; text-decoration-color: #000080\">INFO    </span> Loading data from <span style=\"color: #ff8700; text-decoration-color: #ff8700\">shuttles</span> <span style=\"font-weight: bold\">(</span>ExcelDataset<span style=\"font-weight: bold\">)</span><span style=\"color: #808000; text-decoration-color: #808000\">...</span>                       <a href=\"file:///Users/leilayfarsani/Desktop/spaceflights-kerdo/.venv/lib/python3.9/site-packages/kedro/io/data_catalog.py\" target=\"_blank\"><span style=\"color: #7f7f7f; text-decoration-color: #7f7f7f\">data_catalog.py</span></a><span style=\"color: #7f7f7f; text-decoration-color: #7f7f7f\">:</span><a href=\"file:///Users/leilayfarsani/Desktop/spaceflights-kerdo/.venv/lib/python3.9/site-packages/kedro/io/data_catalog.py#508\" target=\"_blank\"><span style=\"color: #7f7f7f; text-decoration-color: #7f7f7f\">508</span></a>\n",
       "</pre>\n"
      ],
      "text/plain": [
       "\u001b[2;36m                   \u001b[0m\u001b[2;36m \u001b[0m\u001b[34mINFO    \u001b[0m Loading data from \u001b[38;5;208mshuttles\u001b[0m \u001b[1m(\u001b[0mExcelDataset\u001b[1m)\u001b[0m\u001b[33m...\u001b[0m                       \u001b]8;id=234131;file:///Users/leilayfarsani/Desktop/spaceflights-kerdo/.venv/lib/python3.9/site-packages/kedro/io/data_catalog.py\u001b\\\u001b[2mdata_catalog.py\u001b[0m\u001b]8;;\u001b\\\u001b[2m:\u001b[0m\u001b]8;id=279166;file:///Users/leilayfarsani/Desktop/spaceflights-kerdo/.venv/lib/python3.9/site-packages/kedro/io/data_catalog.py#508\u001b\\\u001b[2m508\u001b[0m\u001b]8;;\u001b\\\n"
      ]
     },
     "metadata": {},
     "output_type": "display_data"
    }
   ],
   "source": [
    "df_shuttles= catalog.load(\"shuttles\")"
   ]
  },
  {
   "cell_type": "markdown",
   "metadata": {},
   "source": [
    "as we see there is no file path here so if the path for the files change in future, this code won'tt need to be chaged."
   ]
  },
  {
   "cell_type": "markdown",
   "metadata": {},
   "source": [
    "### Exploratory Data Analysis (EDA)"
   ]
  },
  {
   "cell_type": "code",
   "execution_count": 179,
   "metadata": {},
   "outputs": [
    {
     "data": {
      "text/html": [
       "<pre style=\"white-space:pre;overflow-x:auto;line-height:normal;font-family:Menlo,'DejaVu Sans Mono',consolas,'Courier New',monospace\"></pre>\n"
      ],
      "text/plain": []
     },
     "metadata": {},
     "output_type": "display_data"
    },
    {
     "data": {
      "text/html": [
       "<div>\n",
       "<style scoped>\n",
       "    .dataframe tbody tr th:only-of-type {\n",
       "        vertical-align: middle;\n",
       "    }\n",
       "\n",
       "    .dataframe tbody tr th {\n",
       "        vertical-align: top;\n",
       "    }\n",
       "\n",
       "    .dataframe thead th {\n",
       "        text-align: right;\n",
       "    }\n",
       "</style>\n",
       "<table border=\"1\" class=\"dataframe\">\n",
       "  <thead>\n",
       "    <tr style=\"text-align: right;\">\n",
       "      <th></th>\n",
       "      <th>id</th>\n",
       "      <th>company_rating</th>\n",
       "      <th>company_location</th>\n",
       "      <th>total_fleet_count</th>\n",
       "      <th>iata_approved</th>\n",
       "    </tr>\n",
       "  </thead>\n",
       "  <tbody>\n",
       "    <tr>\n",
       "      <th>0</th>\n",
       "      <td>3888</td>\n",
       "      <td>100%</td>\n",
       "      <td>Isle of Man</td>\n",
       "      <td>1.0</td>\n",
       "      <td>f</td>\n",
       "    </tr>\n",
       "    <tr>\n",
       "      <th>1</th>\n",
       "      <td>46728</td>\n",
       "      <td>100%</td>\n",
       "      <td>NaN</td>\n",
       "      <td>1.0</td>\n",
       "      <td>f</td>\n",
       "    </tr>\n",
       "    <tr>\n",
       "      <th>2</th>\n",
       "      <td>34618</td>\n",
       "      <td>38%</td>\n",
       "      <td>Isle of Man</td>\n",
       "      <td>1.0</td>\n",
       "      <td>f</td>\n",
       "    </tr>\n",
       "    <tr>\n",
       "      <th>3</th>\n",
       "      <td>28619</td>\n",
       "      <td>100%</td>\n",
       "      <td>Bosnia and Herzegovina</td>\n",
       "      <td>1.0</td>\n",
       "      <td>f</td>\n",
       "    </tr>\n",
       "    <tr>\n",
       "      <th>4</th>\n",
       "      <td>8240</td>\n",
       "      <td>NaN</td>\n",
       "      <td>Chile</td>\n",
       "      <td>1.0</td>\n",
       "      <td>t</td>\n",
       "    </tr>\n",
       "  </tbody>\n",
       "</table>\n",
       "</div>"
      ],
      "text/plain": [
       "\n",
       "      id company_rating        company_location  total_fleet_count  \\\n",
       "\u001b[1;36m0\u001b[0m   \u001b[1;36m3888\u001b[0m           \u001b[1;36m100\u001b[0m%             Isle of Man                \u001b[1;36m1.0\u001b[0m   \n",
       "\u001b[1;36m1\u001b[0m  \u001b[1;36m46728\u001b[0m           \u001b[1;36m100\u001b[0m%                     NaN                \u001b[1;36m1.0\u001b[0m   \n",
       "\u001b[1;36m2\u001b[0m  \u001b[1;36m34618\u001b[0m            \u001b[1;36m38\u001b[0m%             Isle of Man                \u001b[1;36m1.0\u001b[0m   \n",
       "\u001b[1;36m3\u001b[0m  \u001b[1;36m28619\u001b[0m           \u001b[1;36m100\u001b[0m%  Bosnia and Herzegovina                \u001b[1;36m1.0\u001b[0m   \n",
       "\u001b[1;36m4\u001b[0m   \u001b[1;36m8240\u001b[0m            NaN                   Chile                \u001b[1;36m1.0\u001b[0m   \n",
       "\n",
       "  iata_approved  \n",
       "\u001b[1;36m0\u001b[0m             f  \n",
       "\u001b[1;36m1\u001b[0m             f  \n",
       "\u001b[1;36m2\u001b[0m             f  \n",
       "\u001b[1;36m3\u001b[0m             f  \n",
       "\u001b[1;36m4\u001b[0m             t  "
      ]
     },
     "execution_count": 179,
     "metadata": {},
     "output_type": "execute_result"
    }
   ],
   "source": [
    "df_companies.head()"
   ]
  },
  {
   "cell_type": "code",
   "execution_count": 180,
   "metadata": {},
   "outputs": [
    {
     "data": {
      "text/html": [
       "<pre style=\"white-space:pre;overflow-x:auto;line-height:normal;font-family:Menlo,'DejaVu Sans Mono',consolas,'Courier New',monospace\"></pre>\n"
      ],
      "text/plain": []
     },
     "metadata": {},
     "output_type": "display_data"
    },
    {
     "data": {
      "text/html": [
       "<div>\n",
       "<style scoped>\n",
       "    .dataframe tbody tr th:only-of-type {\n",
       "        vertical-align: middle;\n",
       "    }\n",
       "\n",
       "    .dataframe tbody tr th {\n",
       "        vertical-align: top;\n",
       "    }\n",
       "\n",
       "    .dataframe thead th {\n",
       "        text-align: right;\n",
       "    }\n",
       "</style>\n",
       "<table border=\"1\" class=\"dataframe\">\n",
       "  <thead>\n",
       "    <tr style=\"text-align: right;\">\n",
       "      <th></th>\n",
       "    </tr>\n",
       "  </thead>\n",
       "  <tbody>\n",
       "    <tr>\n",
       "      <th>0</th>\n",
       "    </tr>\n",
       "    <tr>\n",
       "      <th>1</th>\n",
       "    </tr>\n",
       "    <tr>\n",
       "      <th>2</th>\n",
       "    </tr>\n",
       "    <tr>\n",
       "      <th>3</th>\n",
       "    </tr>\n",
       "    <tr>\n",
       "      <th>4</th>\n",
       "    </tr>\n",
       "    <tr>\n",
       "      <th>...</th>\n",
       "    </tr>\n",
       "    <tr>\n",
       "      <th>10014</th>\n",
       "    </tr>\n",
       "    <tr>\n",
       "      <th>10015</th>\n",
       "    </tr>\n",
       "    <tr>\n",
       "      <th>10016</th>\n",
       "    </tr>\n",
       "    <tr>\n",
       "      <th>10017</th>\n",
       "    </tr>\n",
       "    <tr>\n",
       "      <th>10018</th>\n",
       "    </tr>\n",
       "  </tbody>\n",
       "</table>\n",
       "<p>10019 rows × 0 columns</p>\n",
       "</div>"
      ],
      "text/plain": [
       "\n",
       "Empty DataFrame\n",
       "Columns: \u001b[1m[\u001b[0m\u001b[1m]\u001b[0m\n",
       "Index: \u001b[1m[\u001b[0m\u001b[1;36m0\u001b[0m, \u001b[1;36m1\u001b[0m, \u001b[1;36m2\u001b[0m, \u001b[1;36m3\u001b[0m, \u001b[1;36m4\u001b[0m, \u001b[1;36m5\u001b[0m, \u001b[1;36m6\u001b[0m, \u001b[1;36m7\u001b[0m, \u001b[1;36m8\u001b[0m, \u001b[1;36m9\u001b[0m, \u001b[1;36m10\u001b[0m, \u001b[1;36m11\u001b[0m, \u001b[1;36m12\u001b[0m, \u001b[1;36m13\u001b[0m, \u001b[1;36m14\u001b[0m, \u001b[1;36m15\u001b[0m, \u001b[1;36m16\u001b[0m, \u001b[1;36m17\u001b[0m, \u001b[1;36m18\u001b[0m, \u001b[1;36m19\u001b[0m, \u001b[1;36m20\u001b[0m, \u001b[1;36m21\u001b[0m, \u001b[1;36m22\u001b[0m, \u001b[1;36m23\u001b[0m, \u001b[1;36m24\u001b[0m, \u001b[1;36m25\u001b[0m, \u001b[1;36m26\u001b[0m, \u001b[1;36m27\u001b[0m, \u001b[1;36m28\u001b[0m, \u001b[1;36m29\u001b[0m, \u001b[1;36m30\u001b[0m, \u001b[1;36m31\u001b[0m, \u001b[1;36m32\u001b[0m, \u001b[1;36m33\u001b[0m, \u001b[1;36m34\u001b[0m, \u001b[1;36m35\u001b[0m, \u001b[1;36m36\u001b[0m, \u001b[1;36m37\u001b[0m, \u001b[1;36m38\u001b[0m, \u001b[1;36m39\u001b[0m, \u001b[1;36m40\u001b[0m, \u001b[1;36m41\u001b[0m, \u001b[1;36m42\u001b[0m, \u001b[1;36m43\u001b[0m, \u001b[1;36m44\u001b[0m, \u001b[1;36m45\u001b[0m, \u001b[1;36m46\u001b[0m, \u001b[1;36m47\u001b[0m, \u001b[1;36m48\u001b[0m, \u001b[1;36m49\u001b[0m, \u001b[1;36m50\u001b[0m, \u001b[1;36m51\u001b[0m, \u001b[1;36m52\u001b[0m, \u001b[1;36m53\u001b[0m, \u001b[1;36m54\u001b[0m, \u001b[1;36m55\u001b[0m, \u001b[1;36m56\u001b[0m, \u001b[1;36m57\u001b[0m, \u001b[1;36m58\u001b[0m, \u001b[1;36m59\u001b[0m, \u001b[1;36m60\u001b[0m, \u001b[1;36m61\u001b[0m, \u001b[1;36m62\u001b[0m, \u001b[1;36m63\u001b[0m, \u001b[1;36m64\u001b[0m, \u001b[1;36m65\u001b[0m, \u001b[1;36m66\u001b[0m, \u001b[1;36m67\u001b[0m, \u001b[1;36m68\u001b[0m, \u001b[1;36m69\u001b[0m, \u001b[1;36m70\u001b[0m, \u001b[1;36m71\u001b[0m, \u001b[1;36m72\u001b[0m, \u001b[1;36m73\u001b[0m, \u001b[1;36m74\u001b[0m, \u001b[1;36m75\u001b[0m, \u001b[1;36m76\u001b[0m, \u001b[1;36m77\u001b[0m, \u001b[1;36m78\u001b[0m, \u001b[1;36m79\u001b[0m, \u001b[1;36m80\u001b[0m, \u001b[1;36m81\u001b[0m, \u001b[1;36m82\u001b[0m, \u001b[1;36m83\u001b[0m, \u001b[1;36m84\u001b[0m, \u001b[1;36m85\u001b[0m, \u001b[1;36m86\u001b[0m, \u001b[1;36m87\u001b[0m, \u001b[1;36m88\u001b[0m, \u001b[1;36m89\u001b[0m, \u001b[1;36m90\u001b[0m, \u001b[1;36m91\u001b[0m, \u001b[1;36m92\u001b[0m, \u001b[1;36m93\u001b[0m, \u001b[1;36m94\u001b[0m, \u001b[1;36m95\u001b[0m, \u001b[1;36m96\u001b[0m, \u001b[1;36m97\u001b[0m, \u001b[1;36m98\u001b[0m, \u001b[1;36m99\u001b[0m, \u001b[33m...\u001b[0m\u001b[1m]\u001b[0m\n",
       "\n",
       "\u001b[1m[\u001b[0m\u001b[1;36m10019\u001b[0m rows x \u001b[1;36m0\u001b[0m columns\u001b[1m]\u001b[0m"
      ]
     },
     "execution_count": 180,
     "metadata": {},
     "output_type": "execute_result"
    }
   ],
   "source": [
    "df_companies.iloc[:,5:]"
   ]
  },
  {
   "cell_type": "code",
   "execution_count": 181,
   "metadata": {},
   "outputs": [
    {
     "data": {
      "text/html": [
       "<pre style=\"white-space:pre;overflow-x:auto;line-height:normal;font-family:Menlo,'DejaVu Sans Mono',consolas,'Courier New',monospace\"></pre>\n"
      ],
      "text/plain": []
     },
     "metadata": {},
     "output_type": "display_data"
    },
    {
     "data": {
      "text/plain": [
       "\n",
       "id                     int64\n",
       "company_rating        object\n",
       "company_location      object\n",
       "total_fleet_count    float64\n",
       "iata_approved         object\n",
       "dtype: object"
      ]
     },
     "execution_count": 181,
     "metadata": {},
     "output_type": "execute_result"
    }
   ],
   "source": [
    "df_companies.dtypes"
   ]
  },
  {
   "cell_type": "markdown",
   "metadata": {},
   "source": [
    "The string columns are includin some numerical data that we care about them, so we can extract the numbers from company_rating column and also we can change t and f for iati_approved column to boolean "
   ]
  },
  {
   "cell_type": "code",
   "execution_count": 182,
   "metadata": {},
   "outputs": [
    {
     "data": {
      "text/html": [
       "<pre style=\"white-space:pre;overflow-x:auto;line-height:normal;font-family:Menlo,'DejaVu Sans Mono',consolas,'Courier New',monospace\"></pre>\n"
      ],
      "text/plain": []
     },
     "metadata": {},
     "output_type": "display_data"
    },
    {
     "data": {
      "text/plain": [
       "\n",
       "\u001b[1;36m0\u001b[0m        f\n",
       "\u001b[1;36m1\u001b[0m        f\n",
       "\u001b[1;36m2\u001b[0m        f\n",
       "\u001b[1;36m3\u001b[0m        f\n",
       "\u001b[1;36m4\u001b[0m        t\n",
       "        ..\n",
       "\u001b[1;36m10014\u001b[0m    f\n",
       "\u001b[1;36m10015\u001b[0m    f\n",
       "\u001b[1;36m10016\u001b[0m    t\n",
       "\u001b[1;36m10017\u001b[0m    f\n",
       "\u001b[1;36m10018\u001b[0m    f\n",
       "Name: iata_approved, Length: \u001b[1;36m10019\u001b[0m, dtype: object"
      ]
     },
     "execution_count": 182,
     "metadata": {},
     "output_type": "execute_result"
    }
   ],
   "source": [
    "df_companies['iata_approved']"
   ]
  },
  {
   "cell_type": "code",
   "execution_count": 183,
   "metadata": {},
   "outputs": [
    {
     "data": {
      "text/html": [
       "<pre style=\"white-space:pre;overflow-x:auto;line-height:normal;font-family:Menlo,'DejaVu Sans Mono',consolas,'Courier New',monospace\"></pre>\n"
      ],
      "text/plain": []
     },
     "metadata": {},
     "output_type": "display_data"
    },
    {
     "data": {
      "text/plain": [
       "\n",
       "\u001b[1;36m0\u001b[0m        \u001b[3;91mFalse\u001b[0m\n",
       "\u001b[1;36m1\u001b[0m        \u001b[3;91mFalse\u001b[0m\n",
       "\u001b[1;36m2\u001b[0m        \u001b[3;91mFalse\u001b[0m\n",
       "\u001b[1;36m3\u001b[0m        \u001b[3;91mFalse\u001b[0m\n",
       "\u001b[1;36m4\u001b[0m         \u001b[3;92mTrue\u001b[0m\n",
       "         \u001b[33m...\u001b[0m  \n",
       "\u001b[1;36m10014\u001b[0m    \u001b[3;91mFalse\u001b[0m\n",
       "\u001b[1;36m10015\u001b[0m    \u001b[3;91mFalse\u001b[0m\n",
       "\u001b[1;36m10016\u001b[0m     \u001b[3;92mTrue\u001b[0m\n",
       "\u001b[1;36m10017\u001b[0m    \u001b[3;91mFalse\u001b[0m\n",
       "\u001b[1;36m10018\u001b[0m    \u001b[3;91mFalse\u001b[0m\n",
       "Name: iata_approved, Length: \u001b[1;36m10019\u001b[0m, dtype: bool"
      ]
     },
     "execution_count": 183,
     "metadata": {},
     "output_type": "execute_result"
    }
   ],
   "source": [
    "df_companies['iata_approved'] == 't'"
   ]
  },
  {
   "cell_type": "markdown",
   "metadata": {},
   "source": [
    "That is what we want , so "
   ]
  },
  {
   "cell_type": "code",
   "execution_count": 184,
   "metadata": {},
   "outputs": [],
   "source": [
    "#df_companies['iata_approved'] = df_companies['iata_approved'] == 't'"
   ]
  },
  {
   "cell_type": "code",
   "execution_count": 185,
   "metadata": {},
   "outputs": [],
   "source": [
    "#df_companies['company_rating'] = df_companies['company_rating'].str.replace('%','').astype(float)"
   ]
  },
  {
   "cell_type": "markdown",
   "metadata": {},
   "source": [
    "I used float as there are numbers of NaN in the column"
   ]
  },
  {
   "cell_type": "code",
   "execution_count": 186,
   "metadata": {},
   "outputs": [
    {
     "data": {
      "text/html": [
       "<pre style=\"white-space:pre;overflow-x:auto;line-height:normal;font-family:Menlo,'DejaVu Sans Mono',consolas,'Courier New',monospace\"></pre>\n"
      ],
      "text/plain": []
     },
     "metadata": {},
     "output_type": "display_data"
    },
    {
     "data": {
      "text/html": [
       "<div>\n",
       "<style scoped>\n",
       "    .dataframe tbody tr th:only-of-type {\n",
       "        vertical-align: middle;\n",
       "    }\n",
       "\n",
       "    .dataframe tbody tr th {\n",
       "        vertical-align: top;\n",
       "    }\n",
       "\n",
       "    .dataframe thead th {\n",
       "        text-align: right;\n",
       "    }\n",
       "</style>\n",
       "<table border=\"1\" class=\"dataframe\">\n",
       "  <thead>\n",
       "    <tr style=\"text-align: right;\">\n",
       "      <th></th>\n",
       "      <th>id</th>\n",
       "      <th>shuttle_location</th>\n",
       "      <th>shuttle_type</th>\n",
       "      <th>engine_type</th>\n",
       "      <th>engine_vendor</th>\n",
       "      <th>engines</th>\n",
       "      <th>passenger_capacity</th>\n",
       "      <th>cancellation_policy</th>\n",
       "      <th>crew</th>\n",
       "      <th>d_check_complete</th>\n",
       "      <th>moon_clearance_complete</th>\n",
       "      <th>price</th>\n",
       "      <th>company_id</th>\n",
       "    </tr>\n",
       "  </thead>\n",
       "  <tbody>\n",
       "    <tr>\n",
       "      <th>0</th>\n",
       "      <td>45163</td>\n",
       "      <td>Sao Tome and Principe</td>\n",
       "      <td>Type V5</td>\n",
       "      <td>Plasma</td>\n",
       "      <td>ThetaBase Services</td>\n",
       "      <td>2.0</td>\n",
       "      <td>4</td>\n",
       "      <td>moderate</td>\n",
       "      <td>2.0</td>\n",
       "      <td>f</td>\n",
       "      <td>f</td>\n",
       "      <td>$1,715.0</td>\n",
       "      <td>32413</td>\n",
       "    </tr>\n",
       "    <tr>\n",
       "      <th>1</th>\n",
       "      <td>49438</td>\n",
       "      <td>Wallis and Futuna</td>\n",
       "      <td>Type V2</td>\n",
       "      <td>Plasma</td>\n",
       "      <td>ThetaBase Services</td>\n",
       "      <td>3.0</td>\n",
       "      <td>5</td>\n",
       "      <td>moderate</td>\n",
       "      <td>3.0</td>\n",
       "      <td>f</td>\n",
       "      <td>f</td>\n",
       "      <td>$3,405.0</td>\n",
       "      <td>14122</td>\n",
       "    </tr>\n",
       "    <tr>\n",
       "      <th>2</th>\n",
       "      <td>10750</td>\n",
       "      <td>Niue</td>\n",
       "      <td>Type F5</td>\n",
       "      <td>Quantum</td>\n",
       "      <td>ThetaBase Services</td>\n",
       "      <td>1.0</td>\n",
       "      <td>2</td>\n",
       "      <td>strict</td>\n",
       "      <td>1.0</td>\n",
       "      <td>t</td>\n",
       "      <td>f</td>\n",
       "      <td>$1,806.0</td>\n",
       "      <td>47761</td>\n",
       "    </tr>\n",
       "    <tr>\n",
       "      <th>3</th>\n",
       "      <td>4146</td>\n",
       "      <td>Malta</td>\n",
       "      <td>Type V2</td>\n",
       "      <td>Quantum</td>\n",
       "      <td>ThetaBase Services</td>\n",
       "      <td>1.0</td>\n",
       "      <td>2</td>\n",
       "      <td>moderate</td>\n",
       "      <td>1.0</td>\n",
       "      <td>f</td>\n",
       "      <td>f</td>\n",
       "      <td>$1,676.0</td>\n",
       "      <td>26648</td>\n",
       "    </tr>\n",
       "    <tr>\n",
       "      <th>4</th>\n",
       "      <td>5067</td>\n",
       "      <td>Malta</td>\n",
       "      <td>Type V2</td>\n",
       "      <td>Plasma</td>\n",
       "      <td>ThetaBase Services</td>\n",
       "      <td>5.0</td>\n",
       "      <td>10</td>\n",
       "      <td>strict</td>\n",
       "      <td>5.0</td>\n",
       "      <td>f</td>\n",
       "      <td>f</td>\n",
       "      <td>$4,718.0</td>\n",
       "      <td>26648</td>\n",
       "    </tr>\n",
       "  </tbody>\n",
       "</table>\n",
       "</div>"
      ],
      "text/plain": [
       "\n",
       "      id       shuttle_location shuttle_type engine_type       engine_vendor  \\\n",
       "\u001b[1;36m0\u001b[0m  \u001b[1;36m45163\u001b[0m  Sao Tome and Principe      Type V5      Plasma  ThetaBase Services   \n",
       "\u001b[1;36m1\u001b[0m  \u001b[1;36m49438\u001b[0m      Wallis and Futuna      Type V2      Plasma  ThetaBase Services   \n",
       "\u001b[1;36m2\u001b[0m  \u001b[1;36m10750\u001b[0m                   Niue      Type F5     Quantum  ThetaBase Services   \n",
       "\u001b[1;36m3\u001b[0m   \u001b[1;36m4146\u001b[0m                  Malta      Type V2     Quantum  ThetaBase Services   \n",
       "\u001b[1;36m4\u001b[0m   \u001b[1;36m5067\u001b[0m                  Malta      Type V2      Plasma  ThetaBase Services   \n",
       "\n",
       "   engines  passenger_capacity cancellation_policy  crew d_check_complete  \\\n",
       "\u001b[1;36m0\u001b[0m      \u001b[1;36m2.0\u001b[0m                   \u001b[1;36m4\u001b[0m            moderate   \u001b[1;36m2.0\u001b[0m                f   \n",
       "\u001b[1;36m1\u001b[0m      \u001b[1;36m3.0\u001b[0m                   \u001b[1;36m5\u001b[0m            moderate   \u001b[1;36m3.0\u001b[0m                f   \n",
       "\u001b[1;36m2\u001b[0m      \u001b[1;36m1.0\u001b[0m                   \u001b[1;36m2\u001b[0m              strict   \u001b[1;36m1.0\u001b[0m                t   \n",
       "\u001b[1;36m3\u001b[0m      \u001b[1;36m1.0\u001b[0m                   \u001b[1;36m2\u001b[0m            moderate   \u001b[1;36m1.0\u001b[0m                f   \n",
       "\u001b[1;36m4\u001b[0m      \u001b[1;36m5.0\u001b[0m                  \u001b[1;36m10\u001b[0m              strict   \u001b[1;36m5.0\u001b[0m                f   \n",
       "\n",
       "  moon_clearance_complete     price  company_id  \n",
       "\u001b[1;36m0\u001b[0m                       f  $\u001b[1;36m1\u001b[0m,\u001b[1;36m715.0\u001b[0m       \u001b[1;36m32413\u001b[0m  \n",
       "\u001b[1;36m1\u001b[0m                       f  $\u001b[1;36m3\u001b[0m,\u001b[1;36m405.0\u001b[0m       \u001b[1;36m14122\u001b[0m  \n",
       "\u001b[1;36m2\u001b[0m                       f  $\u001b[1;36m1\u001b[0m,\u001b[1;36m806.0\u001b[0m       \u001b[1;36m47761\u001b[0m  \n",
       "\u001b[1;36m3\u001b[0m                       f  $\u001b[1;36m1\u001b[0m,\u001b[1;36m676.0\u001b[0m       \u001b[1;36m26648\u001b[0m  \n",
       "\u001b[1;36m4\u001b[0m                       f  $\u001b[1;36m4\u001b[0m,\u001b[1;36m718.0\u001b[0m       \u001b[1;36m26648\u001b[0m  "
      ]
     },
     "execution_count": 186,
     "metadata": {},
     "output_type": "execute_result"
    }
   ],
   "source": [
    "df_shuttles.head()\n"
   ]
  },
  {
   "cell_type": "code",
   "execution_count": 187,
   "metadata": {},
   "outputs": [
    {
     "data": {
      "text/html": [
       "<pre style=\"white-space:pre;overflow-x:auto;line-height:normal;font-family:Menlo,'DejaVu Sans Mono',consolas,'Courier New',monospace\"></pre>\n"
      ],
      "text/plain": []
     },
     "metadata": {},
     "output_type": "display_data"
    },
    {
     "data": {
      "text/html": [
       "<div>\n",
       "<style scoped>\n",
       "    .dataframe tbody tr th:only-of-type {\n",
       "        vertical-align: middle;\n",
       "    }\n",
       "\n",
       "    .dataframe tbody tr th {\n",
       "        vertical-align: top;\n",
       "    }\n",
       "\n",
       "    .dataframe thead th {\n",
       "        text-align: right;\n",
       "    }\n",
       "</style>\n",
       "<table border=\"1\" class=\"dataframe\">\n",
       "  <thead>\n",
       "    <tr style=\"text-align: right;\">\n",
       "      <th></th>\n",
       "      <th>engines</th>\n",
       "      <th>passenger_capacity</th>\n",
       "      <th>cancellation_policy</th>\n",
       "      <th>crew</th>\n",
       "      <th>d_check_complete</th>\n",
       "      <th>moon_clearance_complete</th>\n",
       "      <th>price</th>\n",
       "      <th>company_id</th>\n",
       "    </tr>\n",
       "  </thead>\n",
       "  <tbody>\n",
       "    <tr>\n",
       "      <th>0</th>\n",
       "      <td>2.0</td>\n",
       "      <td>4</td>\n",
       "      <td>moderate</td>\n",
       "      <td>2.0</td>\n",
       "      <td>f</td>\n",
       "      <td>f</td>\n",
       "      <td>$1,715.0</td>\n",
       "      <td>32413</td>\n",
       "    </tr>\n",
       "    <tr>\n",
       "      <th>1</th>\n",
       "      <td>3.0</td>\n",
       "      <td>5</td>\n",
       "      <td>moderate</td>\n",
       "      <td>3.0</td>\n",
       "      <td>f</td>\n",
       "      <td>f</td>\n",
       "      <td>$3,405.0</td>\n",
       "      <td>14122</td>\n",
       "    </tr>\n",
       "    <tr>\n",
       "      <th>2</th>\n",
       "      <td>1.0</td>\n",
       "      <td>2</td>\n",
       "      <td>strict</td>\n",
       "      <td>1.0</td>\n",
       "      <td>t</td>\n",
       "      <td>f</td>\n",
       "      <td>$1,806.0</td>\n",
       "      <td>47761</td>\n",
       "    </tr>\n",
       "    <tr>\n",
       "      <th>3</th>\n",
       "      <td>1.0</td>\n",
       "      <td>2</td>\n",
       "      <td>moderate</td>\n",
       "      <td>1.0</td>\n",
       "      <td>f</td>\n",
       "      <td>f</td>\n",
       "      <td>$1,676.0</td>\n",
       "      <td>26648</td>\n",
       "    </tr>\n",
       "    <tr>\n",
       "      <th>4</th>\n",
       "      <td>5.0</td>\n",
       "      <td>10</td>\n",
       "      <td>strict</td>\n",
       "      <td>5.0</td>\n",
       "      <td>f</td>\n",
       "      <td>f</td>\n",
       "      <td>$4,718.0</td>\n",
       "      <td>26648</td>\n",
       "    </tr>\n",
       "    <tr>\n",
       "      <th>...</th>\n",
       "      <td>...</td>\n",
       "      <td>...</td>\n",
       "      <td>...</td>\n",
       "      <td>...</td>\n",
       "      <td>...</td>\n",
       "      <td>...</td>\n",
       "      <td>...</td>\n",
       "      <td>...</td>\n",
       "    </tr>\n",
       "    <tr>\n",
       "      <th>15526</th>\n",
       "      <td>1.0</td>\n",
       "      <td>2</td>\n",
       "      <td>flexible</td>\n",
       "      <td>1.0</td>\n",
       "      <td>t</td>\n",
       "      <td>f</td>\n",
       "      <td>$2,040.0</td>\n",
       "      <td>5816</td>\n",
       "    </tr>\n",
       "    <tr>\n",
       "      <th>15527</th>\n",
       "      <td>1.0</td>\n",
       "      <td>1</td>\n",
       "      <td>strict</td>\n",
       "      <td>1.0</td>\n",
       "      <td>t</td>\n",
       "      <td>f</td>\n",
       "      <td>$1,260.0</td>\n",
       "      <td>19010</td>\n",
       "    </tr>\n",
       "    <tr>\n",
       "      <th>15528</th>\n",
       "      <td>2.0</td>\n",
       "      <td>4</td>\n",
       "      <td>flexible</td>\n",
       "      <td>2.0</td>\n",
       "      <td>t</td>\n",
       "      <td>f</td>\n",
       "      <td>$4,107.0</td>\n",
       "      <td>6654</td>\n",
       "    </tr>\n",
       "    <tr>\n",
       "      <th>15529</th>\n",
       "      <td>1.0</td>\n",
       "      <td>2</td>\n",
       "      <td>flexible</td>\n",
       "      <td>1.0</td>\n",
       "      <td>t</td>\n",
       "      <td>f</td>\n",
       "      <td>$2,170.0</td>\n",
       "      <td>27363</td>\n",
       "    </tr>\n",
       "    <tr>\n",
       "      <th>15530</th>\n",
       "      <td>0.0</td>\n",
       "      <td>2</td>\n",
       "      <td>moderate</td>\n",
       "      <td>2.0</td>\n",
       "      <td>t</td>\n",
       "      <td>f</td>\n",
       "      <td>$1,455.0</td>\n",
       "      <td>12542</td>\n",
       "    </tr>\n",
       "  </tbody>\n",
       "</table>\n",
       "<p>15531 rows × 8 columns</p>\n",
       "</div>"
      ],
      "text/plain": [
       "\n",
       "       engines  passenger_capacity cancellation_policy  crew d_check_complete  \\\n",
       "\u001b[1;36m0\u001b[0m          \u001b[1;36m2.0\u001b[0m                   \u001b[1;36m4\u001b[0m            moderate   \u001b[1;36m2.0\u001b[0m                f   \n",
       "\u001b[1;36m1\u001b[0m          \u001b[1;36m3.0\u001b[0m                   \u001b[1;36m5\u001b[0m            moderate   \u001b[1;36m3.0\u001b[0m                f   \n",
       "\u001b[1;36m2\u001b[0m          \u001b[1;36m1.0\u001b[0m                   \u001b[1;36m2\u001b[0m              strict   \u001b[1;36m1.0\u001b[0m                t   \n",
       "\u001b[1;36m3\u001b[0m          \u001b[1;36m1.0\u001b[0m                   \u001b[1;36m2\u001b[0m            moderate   \u001b[1;36m1.0\u001b[0m                f   \n",
       "\u001b[1;36m4\u001b[0m          \u001b[1;36m5.0\u001b[0m                  \u001b[1;36m10\u001b[0m              strict   \u001b[1;36m5.0\u001b[0m                f   \n",
       "\u001b[33m...\u001b[0m        \u001b[33m...\u001b[0m                 \u001b[33m...\u001b[0m                 \u001b[33m...\u001b[0m   \u001b[33m...\u001b[0m              \u001b[33m...\u001b[0m   \n",
       "\u001b[1;36m15526\u001b[0m      \u001b[1;36m1.0\u001b[0m                   \u001b[1;36m2\u001b[0m            flexible   \u001b[1;36m1.0\u001b[0m                t   \n",
       "\u001b[1;36m15527\u001b[0m      \u001b[1;36m1.0\u001b[0m                   \u001b[1;36m1\u001b[0m              strict   \u001b[1;36m1.0\u001b[0m                t   \n",
       "\u001b[1;36m15528\u001b[0m      \u001b[1;36m2.0\u001b[0m                   \u001b[1;36m4\u001b[0m            flexible   \u001b[1;36m2.0\u001b[0m                t   \n",
       "\u001b[1;36m15529\u001b[0m      \u001b[1;36m1.0\u001b[0m                   \u001b[1;36m2\u001b[0m            flexible   \u001b[1;36m1.0\u001b[0m                t   \n",
       "\u001b[1;36m15530\u001b[0m      \u001b[1;36m0.0\u001b[0m                   \u001b[1;36m2\u001b[0m            moderate   \u001b[1;36m2.0\u001b[0m                t   \n",
       "\n",
       "      moon_clearance_complete     price  company_id  \n",
       "\u001b[1;36m0\u001b[0m                           f  $\u001b[1;36m1\u001b[0m,\u001b[1;36m715.0\u001b[0m       \u001b[1;36m32413\u001b[0m  \n",
       "\u001b[1;36m1\u001b[0m                           f  $\u001b[1;36m3\u001b[0m,\u001b[1;36m405.0\u001b[0m       \u001b[1;36m14122\u001b[0m  \n",
       "\u001b[1;36m2\u001b[0m                           f  $\u001b[1;36m1\u001b[0m,\u001b[1;36m806.0\u001b[0m       \u001b[1;36m47761\u001b[0m  \n",
       "\u001b[1;36m3\u001b[0m                           f  $\u001b[1;36m1\u001b[0m,\u001b[1;36m676.0\u001b[0m       \u001b[1;36m26648\u001b[0m  \n",
       "\u001b[1;36m4\u001b[0m                           f  $\u001b[1;36m4\u001b[0m,\u001b[1;36m718.0\u001b[0m       \u001b[1;36m26648\u001b[0m  \n",
       "\u001b[33m...\u001b[0m                       \u001b[33m...\u001b[0m       \u001b[33m...\u001b[0m         \u001b[33m...\u001b[0m  \n",
       "\u001b[1;36m15526\u001b[0m                       f  $\u001b[1;36m2\u001b[0m,\u001b[1;36m040.0\u001b[0m        \u001b[1;36m5816\u001b[0m  \n",
       "\u001b[1;36m15527\u001b[0m                       f  $\u001b[1;36m1\u001b[0m,\u001b[1;36m260.0\u001b[0m       \u001b[1;36m19010\u001b[0m  \n",
       "\u001b[1;36m15528\u001b[0m                       f  $\u001b[1;36m4\u001b[0m,\u001b[1;36m107.0\u001b[0m        \u001b[1;36m6654\u001b[0m  \n",
       "\u001b[1;36m15529\u001b[0m                       f  $\u001b[1;36m2\u001b[0m,\u001b[1;36m170.0\u001b[0m       \u001b[1;36m27363\u001b[0m  \n",
       "\u001b[1;36m15530\u001b[0m                       f  $\u001b[1;36m1\u001b[0m,\u001b[1;36m455.0\u001b[0m       \u001b[1;36m12542\u001b[0m  \n",
       "\n",
       "\u001b[1m[\u001b[0m\u001b[1;36m15531\u001b[0m rows x \u001b[1;36m8\u001b[0m columns\u001b[1m]\u001b[0m"
      ]
     },
     "execution_count": 187,
     "metadata": {},
     "output_type": "execute_result"
    }
   ],
   "source": [
    "df_shuttles.iloc[:,5:]"
   ]
  },
  {
   "cell_type": "code",
   "execution_count": 188,
   "metadata": {},
   "outputs": [
    {
     "data": {
      "text/html": [
       "<pre style=\"white-space:pre;overflow-x:auto;line-height:normal;font-family:Menlo,'DejaVu Sans Mono',consolas,'Courier New',monospace\"></pre>\n"
      ],
      "text/plain": []
     },
     "metadata": {},
     "output_type": "display_data"
    },
    {
     "data": {
      "text/plain": [
       "\n",
       "id                           int64\n",
       "shuttle_location            object\n",
       "shuttle_type                object\n",
       "engine_type                 object\n",
       "engine_vendor               object\n",
       "engines                    float64\n",
       "passenger_capacity           int64\n",
       "cancellation_policy         object\n",
       "crew                       float64\n",
       "d_check_complete            object\n",
       "moon_clearance_complete     object\n",
       "price                       object\n",
       "company_id                   int64\n",
       "dtype: object"
      ]
     },
     "execution_count": 188,
     "metadata": {},
     "output_type": "execute_result"
    }
   ],
   "source": [
    "df_shuttles.dtypes"
   ]
  },
  {
   "cell_type": "code",
   "execution_count": 189,
   "metadata": {},
   "outputs": [],
   "source": [
    "#df_shuttles['moon_clearance_complete'] = df_shuttles['moon_clearance_complete'] == 't'"
   ]
  },
  {
   "cell_type": "code",
   "execution_count": 190,
   "metadata": {},
   "outputs": [],
   "source": [
    "#df_shuttles['price'] = df_shuttles['price'].str.replace('$','').str.replace(',','').astype(float)"
   ]
  },
  {
   "cell_type": "markdown",
   "metadata": {},
   "source": [
    "As we can see the notebook is getting a bit messy by some duplicated code that could be improved, so we can transform codes into the python functions so it can become part of our Kedro pipeline "
   ]
  },
  {
   "cell_type": "code",
   "execution_count": 191,
   "metadata": {},
   "outputs": [],
   "source": [
    "# creating a function to change strings to booleans\n",
    "\n",
    "\n",
    "# def _is_true(x: pd.Series) -> pd.Series:\n",
    "#     return x == \"t\""
   ]
  },
  {
   "cell_type": "code",
   "execution_count": 192,
   "metadata": {},
   "outputs": [],
   "source": [
    "#df_companies['iata_approved'] = _is_true(df_companies['iata_approved'])"
   ]
  },
  {
   "cell_type": "code",
   "execution_count": 193,
   "metadata": {},
   "outputs": [],
   "source": [
    "# def _parse_percentage(x: pd.Series)-> pd.Series:\n",
    "#       return x.str.replace('%','').astype(float)"
   ]
  },
  {
   "cell_type": "code",
   "execution_count": 194,
   "metadata": {},
   "outputs": [],
   "source": [
    "#df_companies['company_rating'] = _parse_percentage(df_companies['company_rating'])"
   ]
  },
  {
   "cell_type": "code",
   "execution_count": 195,
   "metadata": {},
   "outputs": [],
   "source": [
    "# def _parse_money(x: pd.Series)-> pd.Series:\n",
    "#       return x.str.replace('$','').str.replace(',','').astype(float)"
   ]
  },
  {
   "cell_type": "code",
   "execution_count": 196,
   "metadata": {},
   "outputs": [],
   "source": [
    "#df_shuttles['price']=_parse_money(df_shuttles['price'])"
   ]
  },
  {
   "cell_type": "code",
   "execution_count": 197,
   "metadata": {},
   "outputs": [],
   "source": [
    "#df_shuttles['moon_clearance_complete']=_is_true(df_shuttles['price'])"
   ]
  },
  {
   "cell_type": "markdown",
   "metadata": {},
   "source": [
    "Now I am aware that this notebook is still ab it messy but now I can place this preprocessing in the kedro pipeline so we can run it any time we want and have always our datasets ready to be used."
   ]
  },
  {
   "cell_type": "markdown",
   "metadata": {},
   "source": [
    "I created a new pipline called dataprocessing and moved the function into the node.py file of the pipeline."
   ]
  }
 ],
 "metadata": {
  "kernelspec": {
   "display_name": "Kedro (spaceflight)",
   "language": "python",
   "name": "kedro_spaceflight"
  },
  "language_info": {
   "codemirror_mode": {
    "name": "ipython",
    "version": 3
   },
   "file_extension": ".py",
   "mimetype": "text/x-python",
   "name": "python",
   "nbconvert_exporter": "python",
   "pygments_lexer": "ipython3",
   "version": "3.9.6"
  }
 },
 "nbformat": 4,
 "nbformat_minor": 2
}
